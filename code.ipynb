{
  "cells": [
    {
      "cell_type": "code",
      "source": [
        "!ls /kaggle/input/drowsiness-detection"
      ],
      "metadata": {
        "id": "pxRMSPSySSLC",
        "outputId": "59f5be7e-277c-4c36-e99b-078bfbd832b3",
        "colab": {
          "base_uri": "https://localhost:8080/"
        }
      },
      "execution_count": null,
      "outputs": [
        {
          "output_type": "stream",
          "name": "stdout",
          "text": [
            "ls: cannot access '/kaggle/input/drowsiness-detection': No such file or directory\n"
          ]
        }
      ]
    },
    {
      "cell_type": "code",
      "source": [
        "import cv2, os\n",
        "import numpy as np\n",
        "import matplotlib.image as mpimg\n",
        "import matplotlib.pyplot as plt\n",
        "%matplotlib inline\n",
        "from matplotlib.image import imread\n",
        "import tensorflow as tf\n",
        "from tensorflow import keras\n",
        "from tensorflow.keras import models, layers, Model\n",
        "from tensorflow.keras.preprocessing.image import ImageDataGenerator\n",
        "\n",
        "from tensorflow.keras.applications import ResNet50\n",
        "from keras.applications.resnet50 import preprocess_input\n",
        "from keras.models import Sequential\n",
        "from keras.layers import Dense"
      ],
      "metadata": {
        "id": "_IBOtYslSVqf"
      },
      "execution_count": null,
      "outputs": []
    },
    {
      "cell_type": "code",
      "source": [
        "data_dir = '/content/sample_data'"
      ],
      "metadata": {
        "id": "y42LcKUlSae2"
      },
      "execution_count": null,
      "outputs": []
    },
    {
      "cell_type": "code",
      "source": [
        "train_datagen = ImageDataGenerator(validation_split=0.2,\n",
        "                                   preprocessing_function=preprocess_input) # don't use rescale = 1./255\n",
        "\n",
        "train_generator = train_datagen.flow_from_directory( data_dir,\n",
        "                                                     target_size=(224,224),\n",
        "                                                     batch_size=100,\n",
        "                                                     shuffle=True,\n",
        "                                                     class_mode='categorical',\n",
        "                                                     subset='training')\n",
        "\n",
        "validation_datagen = ImageDataGenerator(validation_split=0.2,\n",
        "                                        preprocessing_function=preprocess_input)\n",
        "\n",
        "validation_generator =  validation_datagen.flow_from_directory( data_dir,\n",
        "                                                                target_size=(224,224),\n",
        "                                                                batch_size=100,\n",
        "                                                                class_mode='categorical',\n",
        "                                                                subset='validation')\n"
      ],
      "metadata": {
        "id": "3D492ggeSf2E",
        "outputId": "a2ec961d-9d5c-4953-bc6f-06345ce6af3e",
        "colab": {
          "base_uri": "https://localhost:8080/"
        }
      },
      "execution_count": null,
      "outputs": [
        {
          "output_type": "stream",
          "name": "stdout",
          "text": [
            "Found 0 images belonging to 0 classes.\n",
            "Found 0 images belonging to 0 classes.\n"
          ]
        }
      ]
    },
    {
      "cell_type": "code",
      "source": [
        "model_res50 = Sequential()\n",
        "\n",
        "model_res50.add(ResNet50(\n",
        "    include_top=False,\n",
        "    pooling='avg',\n",
        "    weights='imagenet'\n",
        "    ))\n",
        "\n",
        "model_res50.add(Dense(2, activation='softmax'))\n",
        "\n",
        "model_res50.layers[0].trainable = False\n",
        "\n",
        "model_res50.summary()\n",
        "\n",
        "\n",
        "steps_per_epoch_training = len(train_generator)\n",
        "steps_per_epoch_validation = len(validation_generator)"
      ],
      "metadata": {
        "id": "t2cp9TW-S-XO",
        "outputId": "a7672a0d-73c8-42cd-b0f6-ebe16f98daec",
        "colab": {
          "base_uri": "https://localhost:8080/"
        }
      },
      "execution_count": null,
      "outputs": [
        {
          "output_type": "stream",
          "name": "stdout",
          "text": [
            "Downloading data from https://storage.googleapis.com/tensorflow/keras-applications/resnet/resnet50_weights_tf_dim_ordering_tf_kernels_notop.h5\n",
            "94765736/94765736 [==============================] - 1s 0us/step\n",
            "Model: \"sequential\"\n",
            "_________________________________________________________________\n",
            " Layer (type)                Output Shape              Param #   \n",
            "=================================================================\n",
            " resnet50 (Functional)       (None, 2048)              23587712  \n",
            "                                                                 \n",
            " dense (Dense)               (None, 2)                 4098      \n",
            "                                                                 \n",
            "=================================================================\n",
            "Total params: 23591810 (90.00 MB)\n",
            "Trainable params: 4098 (16.01 KB)\n",
            "Non-trainable params: 23587712 (89.98 MB)\n",
            "_________________________________________________________________\n"
          ]
        }
      ]
    },
    {
      "cell_type": "code",
      "source": [
        "#CNN\n",
        "img_array = cv2.imread('/content/sample_data/s0001_00003_0_0_0_0_0_01.png', cv2.IMREAD_GRAYSCALE)\n",
        "backtorgb = cv2.cvtColor(img_array, cv2.COLOR_GRAY2BGR)\n",
        "new_array = cv2.resize(backtorgb, (224, 224))\n",
        "X_input = np.array(new_array).reshape(1, 224, 224, 3)\n",
        "# plt.imshow(new_array)\n",
        "prediction = model_res50.predict(X_input/255.0)\n",
        "prediction"
      ],
      "metadata": {
        "id": "ucbFIMUWTj_S",
        "outputId": "aebf3974-4fc7-4cb1-e09b-86cfc6ffe677",
        "colab": {
          "base_uri": "https://localhost:8080/"
        }
      },
      "execution_count": null,
      "outputs": [
        {
          "output_type": "stream",
          "name": "stdout",
          "text": [
            "1/1 [==============================] - 2s 2s/step\n"
          ]
        },
        {
          "output_type": "execute_result",
          "data": {
            "text/plain": [
              "array([[0.25322023, 0.7467798 ]], dtype=float32)"
            ]
          },
          "metadata": {},
          "execution_count": 29
        }
      ]
    }
  ],
  "metadata": {
    "colab": {
      "provenance": []
    },
    "kernelspec": {
      "display_name": "Python 3",
      "name": "python3"
    }
  },
  "nbformat": 4,
  "nbformat_minor": 0
}